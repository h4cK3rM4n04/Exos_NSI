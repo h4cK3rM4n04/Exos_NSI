{
 "cells": [
  {
   "cell_type": "markdown",
   "metadata": {},
   "source": [
    "<div class = \"alert alert-warning\" align=\"center\"> \n",
    "    <img src=\"https://www.egd.mg/wp-content/uploads/2020/01/cropped-logo-home-110px.png\" align=\"left\" width=\"290\"  margin=\"50px\"> \n",
    "    <center><h1>Lycée français de Tananarive</h1> \n",
    "        <h2> Jupyter Hub,  Spécialité NSI </h2></center>\n",
    "</div>"
   ]
  },
  {
   "cell_type": "markdown",
   "metadata": {
    "deletable": false,
    "editable": false,
    "nbgrader": {
     "cell_type": "markdown",
     "checksum": "5843c58be408104fd4d74c581ffb0cbe",
     "grade": false,
     "grade_id": "cell-12fc754389e86658",
     "locked": true,
     "schema_version": 3,
     "solution": false
    }
   },
   "source": [
    "## 1 Un convertisseur héxadécimal vers décimal\n",
    "On considère la fonction `hextodec(chaine)` partiellement programmée ci dessous, cette fonction prend en argument un chaine de caractéres représentant un nombre codé en hexadécimal, et renvoie un nombre en décimal sous la forme d'un entier.\n",
    "\n",
    "**Le code de cette fonction n'est pas complet, compléter le pour que la fonction puisse passer le jeu d'essais.**"
   ]
  },
  {
   "cell_type": "code",
   "execution_count": 3,
   "metadata": {
    "deletable": false,
    "nbgrader": {
     "cell_type": "code",
     "checksum": "bd2a3453ecf82f7632ff48da4761683d",
     "grade": false,
     "grade_id": "cell-2858bb3ab4eac687",
     "locked": false,
     "schema_version": 3,
     "solution": true
    }
   },
   "outputs": [],
   "source": [
    "def hextodec(chaine) :\n",
    "    return int(chaine, 16) if (isinstance(chaine,str)) else None"
   ]
  },
  {
   "cell_type": "markdown",
   "metadata": {
    "deletable": false,
    "editable": false,
    "nbgrader": {
     "cell_type": "markdown",
     "checksum": "87709c1defbae2510f2175fea1599a5e",
     "grade": false,
     "grade_id": "cell-d64d45b585335f05",
     "locked": true,
     "schema_version": 3,
     "solution": false
    }
   },
   "source": [
    "**Jeu d'essais**"
   ]
  },
  {
   "cell_type": "code",
   "execution_count": 4,
   "metadata": {
    "deletable": false,
    "editable": false,
    "nbgrader": {
     "cell_type": "code",
     "checksum": "2649d213e4a6848fe8fa29b3b14df940",
     "grade": true,
     "grade_id": "cell-1fa723eb39066510",
     "locked": true,
     "points": 2,
     "schema_version": 3,
     "solution": false
    }
   },
   "outputs": [],
   "source": [
    "assert hextodec('FF') == 255\n",
    "assert hextodec('0') == 0\n",
    "assert hextodec('10') == 16\n",
    "assert hextodec('A5B4287F') == 2780047487"
   ]
  },
  {
   "cell_type": "markdown",
   "metadata": {
    "deletable": false,
    "editable": false,
    "nbgrader": {
     "cell_type": "markdown",
     "checksum": "f5400192b8ee975321cbc66f9d0213ff",
     "grade": false,
     "grade_id": "cell-1979588abfc31a2e",
     "locked": true,
     "schema_version": 3,
     "solution": false
    }
   },
   "source": [
    "# 2. Un convertisseur hexadécimal vers binaire.\n",
    "On souhaite obtenir une fonction `hextobin(chaine)` qui prend en argument une chaine de caractère et qui renvoie une chaine de caractères représentant ce nombre exprimé en binaire.\n",
    "## 2.1 Convertisseur décimal vers binaire\n",
    "**Pour cela , commençons par écrire une fonction `dectobin(n)` qui prend un nombre décimal en argument et qui va renvoyer une chaine de caractères exprimant ce même nombre en binaire :**\n"
   ]
  },
  {
   "cell_type": "code",
   "execution_count": 5,
   "metadata": {
    "deletable": false,
    "nbgrader": {
     "cell_type": "code",
     "checksum": "e9710fd3063e041a3fb7b4b65a19ca0d",
     "grade": false,
     "grade_id": "cell-a845d6a98937bb76",
     "locked": false,
     "schema_version": 3,
     "solution": true
    }
   },
   "outputs": [],
   "source": [
    "def dectobin(n) :\n",
    "    # YOUR CODE HERE\n",
    "    return bin(n)[2:] if (isinstance(n,int)) else None"
   ]
  },
  {
   "cell_type": "markdown",
   "metadata": {
    "deletable": false,
    "editable": false,
    "nbgrader": {
     "cell_type": "markdown",
     "checksum": "274c638935c81af1eb1505c21984beee",
     "grade": false,
     "grade_id": "cell-8f6f1692ea896400",
     "locked": true,
     "schema_version": 3,
     "solution": false
    }
   },
   "source": [
    "**Jeu d'essais**"
   ]
  },
  {
   "cell_type": "code",
   "execution_count": 6,
   "metadata": {
    "deletable": false,
    "editable": false,
    "nbgrader": {
     "cell_type": "code",
     "checksum": "284693f1cd5249fe22b005fb40fb239c",
     "grade": true,
     "grade_id": "cell-6fe2a254f102f177",
     "locked": true,
     "points": 2,
     "schema_version": 3,
     "solution": false
    }
   },
   "outputs": [],
   "source": [
    "assert dectobin(0) == '0'\n",
    "assert dectobin(4) == '100'\n",
    "assert dectobin(255) == '11111111'"
   ]
  },
  {
   "cell_type": "markdown",
   "metadata": {
    "deletable": false,
    "editable": false,
    "nbgrader": {
     "cell_type": "markdown",
     "checksum": "9927b602862e7868d1e32aba97c124c5",
     "grade": false,
     "grade_id": "cell-ef27ce304194dcbf",
     "locked": true,
     "schema_version": 3,
     "solution": false
    }
   },
   "source": [
    "## 2.2 Convertisseur hexadécimal binaire.\n",
    "En utilisant les deux fonctions précédemment écrites, on veut maintenant créer un convertisseur hexadécimal/Binaire.\n",
    "\n",
    "**Ecrire une fonction `hextobin(chaine)` qui prend en argument une chaine de caractères représentant un nombre codé en hexadécimal et qui renvoie une chaine de caractères représentant ce même nombre codé en binaire.**"
   ]
  },
  {
   "cell_type": "code",
   "execution_count": 22,
   "metadata": {
    "deletable": false,
    "nbgrader": {
     "cell_type": "code",
     "checksum": "986389f579e344e0743cee8bbea62b4f",
     "grade": false,
     "grade_id": "cell-0f39b0f7a6bbbc4a",
     "locked": false,
     "schema_version": 3,
     "solution": true
    }
   },
   "outputs": [],
   "source": [
    "def hextobin(chaine) :\n",
    "    # YOUR CODE HERE\n",
    "    return bin(int(chaine, 16))[2:] if (isinstance(chaine,str)) else None\n",
    "    "
   ]
  },
  {
   "cell_type": "markdown",
   "metadata": {
    "deletable": false,
    "editable": false,
    "nbgrader": {
     "cell_type": "markdown",
     "checksum": "8acb3490cd3d9eca01ae7320decdea40",
     "grade": false,
     "grade_id": "cell-5bda8aedbffe42a2",
     "locked": true,
     "schema_version": 3,
     "solution": false
    }
   },
   "source": [
    "### Jeu d'essai"
   ]
  },
  {
   "cell_type": "code",
   "execution_count": 23,
   "metadata": {
    "deletable": false,
    "editable": false,
    "nbgrader": {
     "cell_type": "code",
     "checksum": "675fa04d683abf54522528a6393ff674",
     "grade": true,
     "grade_id": "cell-ee55bb5ec47311b8",
     "locked": true,
     "points": 2,
     "schema_version": 3,
     "solution": false
    }
   },
   "outputs": [],
   "source": [
    "assert hextobin('FF') == '11111111'\n",
    "assert hextobin('0') == '0'\n",
    "assert hextobin('A15FD3') == '101000010101111111010011'"
   ]
  },
  {
   "cell_type": "markdown",
   "metadata": {
    "deletable": false,
    "editable": false,
    "nbgrader": {
     "cell_type": "markdown",
     "checksum": "2ec6577bb134eeae2b071ee6c41aa12f",
     "grade": false,
     "grade_id": "cell-c420b00c9232797b",
     "locked": true,
     "schema_version": 3,
     "solution": false
    }
   },
   "source": [
    "## 2.3 Ecriture du nombre en bloc d'un Octet.\n",
    "Pour faciliter la mesure des nombres binaires, il peut être pratique de les écrire par bloc de 8 bits, c'est à dire d'un octet, par exemple plutôt que d'écrire `10110101011010101010101` on préférera écrire `1011010 10110101 01010101`.\n",
    "\n",
    "Si le nombre de bits n'est pas un multiple de 8, on rajoutera des 0 à gauche pour compléter, par exemple `101101010010`, on écrira `00001011 01010010`\n",
    "\n",
    "**Ecrire une fonction `octet(chaine)`, qui prend en argument une chaine de caractères représentant un nombre en binaire, et la formate en bloc d'octet, conformément à la description ci-dessus**\n"
   ]
  },
  {
   "cell_type": "code",
   "execution_count": 7,
   "metadata": {
    "deletable": false,
    "nbgrader": {
     "cell_type": "code",
     "checksum": "8609f0250a5c714f64a6b1c7934485bc",
     "grade": false,
     "grade_id": "cell-46a2e4ce087d8d8c",
     "locked": false,
     "schema_version": 3,
     "solution": true
    }
   },
   "outputs": [],
   "source": [
    "def octet(n) :\n",
    "    # Defining splitting point\n",
    "    sep,j,x = \" \",8,len(n)\n",
    "    # Using list comprehension\n",
    "    if x%8 != 0:\n",
    "        n = \"0\"*(8-x%8) + n \n",
    "    L = [(n[i:i+j]) for i in range(0, len(n), j)]\n",
    "    return sep.join(L)"
   ]
  },
  {
   "cell_type": "markdown",
   "metadata": {
    "deletable": false,
    "editable": false,
    "nbgrader": {
     "cell_type": "markdown",
     "checksum": "f66ca8e81112aaee67bf8764d829d36d",
     "grade": false,
     "grade_id": "cell-bb13ed1f89d0106a",
     "locked": true,
     "schema_version": 3,
     "solution": false
    }
   },
   "source": [
    "**Jeu d'essai** "
   ]
  },
  {
   "cell_type": "code",
   "execution_count": 8,
   "metadata": {
    "deletable": false,
    "editable": false,
    "nbgrader": {
     "cell_type": "code",
     "checksum": "7f8081b3037328596a19ccc208333ac2",
     "grade": true,
     "grade_id": "cell-7e19625003bb7130",
     "locked": true,
     "points": 0,
     "schema_version": 3,
     "solution": false
    }
   },
   "outputs": [],
   "source": [
    "assert octet(\"11110001\") == '11110001'\n",
    "assert octet(\"1001110001\") == '00000010 01110001'\n",
    "assert octet(\"0\") == '00000000'\n",
    "assert octet(\"10101101101101101101110111011101110\") == '00000101 01101101 10110110 11101110 11101110'"
   ]
  },
  {
   "cell_type": "code",
   "execution_count": null,
   "metadata": {},
   "outputs": [],
   "source": []
  }
 ],
 "metadata": {
  "kernelspec": {
   "display_name": "Python 3",
   "language": "python",
   "name": "python3"
  },
  "language_info": {
   "codemirror_mode": {
    "name": "ipython",
    "version": 3
   },
   "file_extension": ".py",
   "mimetype": "text/x-python",
   "name": "python",
   "nbconvert_exporter": "python",
   "pygments_lexer": "ipython3",
   "version": "3.6.9"
  },
  "latex_envs": {
   "LaTeX_envs_menu_present": true,
   "autoclose": false,
   "autocomplete": true,
   "bibliofile": "biblio.bib",
   "cite_by": "apalike",
   "current_citInitial": 1,
   "eqLabelWithNumbers": true,
   "eqNumInitial": 1,
   "hotkeys": {
    "equation": "Ctrl-E",
    "itemize": "Ctrl-I"
   },
   "labels_anchors": false,
   "latex_user_defs": false,
   "report_style_numbering": false,
   "user_envs_cfg": false
  }
 },
 "nbformat": 4,
 "nbformat_minor": 2
}
