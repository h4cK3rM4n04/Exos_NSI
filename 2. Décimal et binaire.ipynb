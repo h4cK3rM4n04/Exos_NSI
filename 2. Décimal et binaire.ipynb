{
 "cells": [
  {
   "cell_type": "markdown",
   "metadata": {},
   "source": [
    "<div class = \"alert alert-warning\" align=\"center\"> \n",
    "    <img src=\"https://www.egd.mg/wp-content/uploads/2020/01/cropped-logo-home-110px.png\" align=\"left\" width=\"290\"  margin=\"50px\"> \n",
    "    <center><h1>Lycée français de Tananarive</h1> \n",
    "        <h2> Jupyter Hub,  Spécialité NSI </h2></center>\n",
    "</div>"
   ]
  },
  {
   "cell_type": "markdown",
   "metadata": {
    "deletable": false,
    "editable": false,
    "nbgrader": {
     "cell_type": "markdown",
     "checksum": "5221b929c82790c694f54c001b48cd8a",
     "grade": false,
     "grade_id": "cell-ca016957f4cdce65",
     "locked": true,
     "schema_version": 3,
     "solution": false
    }
   },
   "source": [
    "# 2. Du décimal et binaire\n",
    "## 2.1 Généralités\n",
    "Les nombres que nous utilisons sont des nombres dits pondérés dans une base. Dans chaque base, nous utilisons un symbole distinct pour chaque chiffre. Chaque chiffre appartient à un rang. Ce rang est pondéré. On peut donc généraliser la forme d’écriture d’un nombre ainsi :  $ c_{i-1} \\cdot b_{i-1} + ... + c_{2} \\cdot b_{2} + c_{1} \\cdot b_{1} + c_{0} \\cdot b_{0} $\n",
    "\n",
    "Où $c_{i}$  est le chiffre au rang i de la base b. Cela s’écrit aussi sous cette forme : $$ \\sum_{i=1}^{n} c_{i} \\cdot b_{i}$$\n",
    "\n",
    "## 2.2 Les numérations antiques (sans chronologie...)\n",
    "\n",
    "### 2.2.1 Numération Egyptienne (A titre culturel)\n",
    "\n",
    "C’est une numération **additionnelle** : le résultat est obtenu en additionnant les chiffres sans tenir compte de leurs positions.\n",
    "\n",
    "![hiéroglyphes](Images\\egyp1.png)\n",
    "\n",
    "[source image](http://jlsigrist.com/egyptien.html)\n",
    "\n",
    "### 2.2.2 Numération romaine (A titre culturel)\n",
    "\n",
    "![Chiffres romains](Images\\romain1.jpg)\n",
    "\n",
    "[source image](http://villemin.gerard.free.fr/Wwwgvmm/Numerati/Romain.htm)\n",
    "\n",
    "![Exemples romain](Images\\romain2.jpg)\n",
    "\n",
    "C’est aussi une numération **additionnelle** : le résultat est obtenu en additionnant les chiffres. Mais cette fois les positions ont de l'importance. (XIX et XXI)\n",
    "\n",
    "Remarquez-vous l'absence d'un chiffre important pour nous ?\n",
    "\n",
    "### 2.2.3 Numération mésopotamienne (A titre culturel)\n",
    "\n",
    "C'est une numération **positionnelle** en **base 60**.  Il en reste quelques vestiges dans le système horaire ou dans la mesure des angles en degrés, minutes, secondes.\n",
    "\n",
    "![Mésopotamie](Images\\base_60.gif)\n",
    "\n",
    "\n",
    "[source image](http://www.lemiroirdutemps.com/article-212-les-nombres-sont-ils-magiques-il-y-a-environ-6-000-ans-38724934.html)\n",
    "\n",
    "\n",
    "## 2.3 La numération binaire (base 2)\n",
    "\n",
    "### 2.3.1 Théorie\n",
    "\n",
    "On va donc avoir besoin de 2 chiffres. Lesquels ?\tGA\tpuis\tBU ?\n",
    "\n",
    "Non on va faire simple 0 puis 1. On aura donc que 2 chiffres.\n",
    "\n",
    "![Binaire](Images\\bin_101.png)\n",
    "\n",
    "On a ici un nombre écrit sur 3 bits.\n",
    "\n",
    "​\t\tLe bit 1 (à droite) se trouve en **position 0** (2 puissance 0 = 1), il a le poids le plus faible (1).\n",
    "\n",
    "​\tLe bit 0 (au milieu) se trouve en **position 1** (2 puissance 1 = 2). Il a le poids 2\n",
    "\n",
    "Le bit 1 (à gauche) se trouve en **position 2** (2 puissance 2 = 4), il a le poids le plus fort (4).\n",
    "\n",
    "\n",
    "\n",
    "On les prends par paquet de combien ? **8** c'est pas mal ? On dira qu'on prend **un octet**\n",
    "\n",
    "On a donc les poids suivants pour chaque bit :\n",
    "\n",
    "| Position        | 7    | 6    | 5    | 4    | 3    | 2    | 1    | 0    |\n",
    "| --------------- | :----: | :----: | :----: | :----: | :----: | :----: | :----: | :----: |\n",
    "| - | 2^7 | 2^6 | 2^5 | 2^4 | 2^3 | 2^2 | 2^1 | 2^0 |\n",
    "| Poids en base 2 | 128  | 64 | 32 | 16 | 8 | 4 | 2 | 1 |\n",
    "\n",
    "Comment connaître le poids de la colonne 6 ? C'est simple c'est le double de la colonne 5 !\n",
    "\n",
    "*remarque :*\n",
    "\n",
    "> 8, 16, 32, 64, mais surtout pas 48... Ces chiffres vous disent quelque chose ? Ce sont les capacités possibles pour la mémoire des téléphone, carte mémoire ou  clé USB : c'est forcément en 2^??\n",
    "\n",
    "### 2.3.2 EXERCICE : un convertisseur binaire vers décimal\n",
    "A partir de ce que vous avez fait avec les Shadoks, écrire une fonction `bintodec(chaine)` qui converti un binaire (donné en paramètre **sous forme de chaine de caractère**, \"01001010\") en décimal, sous forme de nombre entier."
   ]
  },
  {
   "cell_type": "code",
   "execution_count": 1,
   "metadata": {
    "deletable": false,
    "nbgrader": {
     "cell_type": "code",
     "checksum": "e643abce6be45375f5badcc1ec3909b2",
     "grade": false,
     "grade_id": "cell-dc0477901f0b86a1",
     "locked": false,
     "schema_version": 3,
     "solution": true
    }
   },
   "outputs": [
    {
     "data": {
      "text/plain": [
       "15"
      ]
     },
     "execution_count": 1,
     "metadata": {},
     "output_type": "execute_result"
    }
   ],
   "source": [
    "def bintodec(chaine) :\n",
    "    rang = len(chaine) - 1\n",
    "    resultat = 0\n",
    "    for i in range (len(chaine)):\n",
    "        if chaine[i] == \"1\":\n",
    "            resultat += 2 ** rang\n",
    "        rang -= 1\n",
    "    return resultat\n",
    "#En local ça ne marche pas sans le mot clé : \"print\"!!!\n",
    "bintodec (\"1111\")"
   ]
  },
  {
   "cell_type": "markdown",
   "metadata": {
    "deletable": false,
    "editable": false,
    "nbgrader": {
     "cell_type": "markdown",
     "checksum": "d33e6a88484df4ea29a971ed53f59275",
     "grade": false,
     "grade_id": "cell-2dbbb9fdfd871e91",
     "locked": true,
     "schema_version": 3,
     "solution": false
    }
   },
   "source": [
    "Voyons maintenant si votre fonction passent les tests : "
   ]
  },
  {
   "cell_type": "code",
   "execution_count": 2,
   "metadata": {
    "deletable": false,
    "editable": false,
    "nbgrader": {
     "cell_type": "code",
     "checksum": "fefef934bb13ff0d97045444d62410c3",
     "grade": true,
     "grade_id": "cell-a06a24882d66b53d",
     "locked": true,
     "points": 1,
     "schema_version": 3,
     "solution": false
    }
   },
   "outputs": [],
   "source": [
    "assert bintodec('10') == 2\n",
    "assert bintodec('1111') == 15\n",
    "assert bintodec('0000') == 0\n",
    "assert bintodec('10000000') == 128\n",
    "assert bintodec('1') == 1"
   ]
  },
  {
   "cell_type": "markdown",
   "metadata": {
    "deletable": false,
    "editable": false,
    "nbgrader": {
     "cell_type": "markdown",
     "checksum": "d6aa4530e2a6e5248f89ed12122cbf11",
     "grade": false,
     "grade_id": "cell-5da3c45aec4f4469",
     "locked": true,
     "schema_version": 3,
     "solution": false
    }
   },
   "source": [
    "### 2.3.3 EXERCICE : un convertisseur décimal vers binaire.\n",
    "A partir de ce que vous avez fait avec les Shadoks, écrire une fonction `dectobin(n)` qui converti un nombre entier `n` passé en paramètre en un binaire (donné **sous forme de chaine de caractère**, \"01001010\" par exemple)."
   ]
  },
  {
   "cell_type": "code",
   "execution_count": 9,
   "metadata": {
    "deletable": false,
    "nbgrader": {
     "cell_type": "code",
     "checksum": "41c637e5266039e61f80fab0ceb5095e",
     "grade": false,
     "grade_id": "cell-383e2f0fe6d29697",
     "locked": false,
     "schema_version": 3,
     "solution": true
    }
   },
   "outputs": [],
   "source": [
    "def dectobin(n):\n",
    "    resultat = \"\"\n",
    "    while n >= 2 :\n",
    "        resultat =  str(n % 2) + resultat \n",
    "        n = n // 2\n",
    "    resultat =  str(n) + resultat\n",
    "    return (resultat)"
   ]
  },
  {
   "cell_type": "markdown",
   "metadata": {
    "deletable": false,
    "editable": false,
    "nbgrader": {
     "cell_type": "markdown",
     "checksum": "1d8e6dde18d254e2a9d6790a6f4f0f9b",
     "grade": false,
     "grade_id": "cell-610802ccaeb6bbbd",
     "locked": true,
     "schema_version": 3,
     "solution": false
    }
   },
   "source": [
    "Voyons maintenant si votre question passe le jeu de tests."
   ]
  },
  {
   "cell_type": "code",
   "execution_count": 8,
   "metadata": {
    "deletable": false,
    "editable": false,
    "nbgrader": {
     "cell_type": "code",
     "checksum": "2a29d391f72baf8f36cfc4d0bd42cbbd",
     "grade": true,
     "grade_id": "cell-e53241952466fd89",
     "locked": true,
     "points": 1,
     "schema_version": 3,
     "solution": false
    }
   },
   "outputs": [],
   "source": [
    "assert dectobin(7) == '111'\n",
    "assert dectobin(1) == '1'\n",
    "assert dectobin(1060) == '10000100100'\n",
    "assert dectobin(0) == '0'"
   ]
  },
  {
   "cell_type": "markdown",
   "metadata": {
    "deletable": false,
    "editable": false,
    "nbgrader": {
     "cell_type": "markdown",
     "checksum": "f2cabf77f7a37f843c4141c626965135",
     "grade": false,
     "grade_id": "cell-248e6bc8a881317a",
     "locked": true,
     "schema_version": 3,
     "solution": false
    }
   },
   "source": [
    "### 2.3.4 EXERCICE : Combien de bit pour écrire un nombre en binaire ?\n",
    "Si on considère le nombre écrit en binaire '110', on constate qu'il faut 3 bits pour l'écrire, alors qu'il en faut 8 pour écrire '11101010'.\n",
    "\n",
    "Ecrire une fonction `nbrbit(n)`, qui prend en argument un entier positif ou nul et qui renvoie le nombre de bits necéssaires pour écrire ce nombre en binaire."
   ]
  },
  {
   "cell_type": "code",
   "execution_count": 16,
   "metadata": {
    "deletable": false,
    "nbgrader": {
     "cell_type": "code",
     "checksum": "e69f3a3c4058eeec70da169b4501fc18",
     "grade": false,
     "grade_id": "cell-7dc062cd1b496c33",
     "locked": false,
     "schema_version": 3,
     "solution": true
    }
   },
   "outputs": [],
   "source": [
    "def nbrbit(n) :\n",
    "    return len(list(dectobin(n)))\n",
    "def dectobin(n):\n",
    "    resultat = \"\"\n",
    "    while n >= 2 :\n",
    "        resultat =  str(n % 2) + resultat \n",
    "        n = n // 2\n",
    "    resultat =  str(n) + resultat\n",
    "    return (resultat)"
   ]
  },
  {
   "cell_type": "markdown",
   "metadata": {
    "deletable": false,
    "editable": false,
    "nbgrader": {
     "cell_type": "markdown",
     "checksum": "93c7f8915fdde06e23a20c4aa2aa02e6",
     "grade": false,
     "grade_id": "cell-11f8ae980619c903",
     "locked": true,
     "schema_version": 3,
     "solution": false
    }
   },
   "source": [
    "Voyons voir le jeu de tests :"
   ]
  },
  {
   "cell_type": "code",
   "execution_count": 17,
   "metadata": {
    "deletable": false,
    "editable": false,
    "nbgrader": {
     "cell_type": "code",
     "checksum": "e67dd7cc2c17f877828c4d364ef916d1",
     "grade": true,
     "grade_id": "cell-e6c8f6f4f7204bbb",
     "locked": true,
     "points": 2,
     "schema_version": 3,
     "solution": false
    }
   },
   "outputs": [],
   "source": [
    "assert nbrbit(1) == 1\n",
    "assert nbrbit(15) == 4\n",
    "assert nbrbit(16) == 5\n",
    "assert nbrbit(0) == 1"
   ]
  },
  {
   "cell_type": "code",
   "execution_count": null,
   "metadata": {},
   "outputs": [],
   "source": []
  }
 ],
 "metadata": {
  "kernelspec": {
   "display_name": "Python 3 (ipykernel)",
   "language": "python",
   "name": "python3"
  },
  "language_info": {
   "codemirror_mode": {
    "name": "ipython",
    "version": 3
   },
   "file_extension": ".py",
   "mimetype": "text/x-python",
   "name": "python",
   "nbconvert_exporter": "python",
   "pygments_lexer": "ipython3",
   "version": "3.10.4"
  },
  "latex_envs": {
   "LaTeX_envs_menu_present": true,
   "autoclose": false,
   "autocomplete": true,
   "bibliofile": "biblio.bib",
   "cite_by": "apalike",
   "current_citInitial": 1,
   "eqLabelWithNumbers": true,
   "eqNumInitial": 1,
   "hotkeys": {
    "equation": "Ctrl-E",
    "itemize": "Ctrl-I"
   },
   "labels_anchors": false,
   "latex_user_defs": false,
   "report_style_numbering": false,
   "user_envs_cfg": false
  }
 },
 "nbformat": 4,
 "nbformat_minor": 2
}
