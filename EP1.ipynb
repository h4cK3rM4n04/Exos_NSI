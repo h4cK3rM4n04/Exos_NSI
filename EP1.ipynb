{
 "cells": [
  {
   "cell_type": "markdown",
   "metadata": {},
   "source": [
    "<div class = \"alert alert-warning\" align=\"center\"> \n",
    "    <img src=\"https://www.egd.mg/wp-content/uploads/2020/01/cropped-logo-home-110px.png\" align=\"left\" width=\"290\"  margin=\"50px\"> \n",
    "    <center><h1>Lycée français de Tananarive</h1> \n",
    "        <h2> Jupyter Hub,  Spécialité NSI </h2></center>\n",
    "</div>"
   ]
  },
  {
   "cell_type": "markdown",
   "metadata": {
    "deletable": false,
    "editable": false,
    "nbgrader": {
     "cell_type": "markdown",
     "checksum": "a0de91782f6ca67b9a6f69f986d1031b",
     "grade": false,
     "grade_id": "cell-395352533744f41b",
     "locked": true,
     "schema_version": 3,
     "solution": false,
     "task": false
    }
   },
   "source": [
    "<div align=justify>\n",
    "    <h1 style='text-align:center' ><span style = 'color:#0000FF'>NoteBook : Epreuve pratique n°1 </span></h1>\n",
    "</div>"
   ]
  },
  {
   "cell_type": "markdown",
   "metadata": {
    "deletable": false,
    "editable": false,
    "nbgrader": {
     "cell_type": "markdown",
     "checksum": "69dbabea3dcc719d9cb9083ab42fbbed",
     "grade": false,
     "grade_id": "cell-90ba4d2057f83cd4",
     "locked": true,
     "schema_version": 3,
     "solution": false,
     "task": false
    }
   },
   "source": [
    "# Exercice 1 (8 points)"
   ]
  },
  {
   "cell_type": "markdown",
   "metadata": {
    "deletable": false,
    "editable": false,
    "nbgrader": {
     "cell_type": "markdown",
     "checksum": "89a9916279d2329e62f4e03115808c9d",
     "grade": false,
     "grade_id": "cell-623ed2e9f5b9c1d6",
     "locked": true,
     "schema_version": 3,
     "solution": false,
     "task": false
    }
   },
   "source": [
    "<div class = \"alert alert-info\">\n",
    "    Écrire en langage Python une fonction <code>recherche</code> prenant comme paramètres une variable <code>a</code> de type numérique (float ou int) et un tableau <code>t</code> (type list) et qui renvoie le nombre d'occurrences de <code>a</code> dans <code>t</code>.\n",
    "</div>"
   ]
  },
  {
   "cell_type": "code",
   "execution_count": 1,
   "metadata": {
    "deletable": false,
    "nbgrader": {
     "cell_type": "code",
     "checksum": "8d97608f15674e7c38443b9c8aa75ed4",
     "grade": false,
     "grade_id": "cell-11ae7f6d12b1f306",
     "locked": false,
     "schema_version": 3,
     "solution": true,
     "task": false
    }
   },
   "outputs": [],
   "source": [
    "def recherche (a,t) :\n",
    "    nb_caracteres = 0  # Variable stockant le nombre de caractères trouvé, initialisée à 0\n",
    "    for c in t:  # On parcourt chaque caractère du mot passé en argument\n",
    "        if c == a:  # Si le caractère courant est égal au caractère recherché\n",
    "            nb_caracteres += 1  # On incrémente nb_caracteres\n",
    "    return nb_caracteres  # Enfin, on retourne le nombre de caractères trouvé\n"
   ]
  },
  {
   "cell_type": "code",
   "execution_count": 2,
   "metadata": {
    "deletable": false,
    "editable": false,
    "nbgrader": {
     "cell_type": "code",
     "checksum": "4292f363d167bde8a7639a71050313bc",
     "grade": true,
     "grade_id": "cell-1ea587ee5da7d980",
     "locked": true,
     "points": 8,
     "schema_version": 3,
     "solution": false,
     "task": false
    }
   },
   "outputs": [],
   "source": [
    "assert recherche(5,[]) == 0\n",
    "assert recherche(5,[-2, 3, 4, 8]) ==0\n",
    "assert recherche(5,[-2, 3, 1, 5, 3, 7, 4]) == 1\n",
    "assert recherche(5,[-2, 5, 3, 5, 4, 5]) == 3"
   ]
  },
  {
   "cell_type": "markdown",
   "metadata": {
    "deletable": false,
    "editable": false,
    "nbgrader": {
     "cell_type": "markdown",
     "checksum": "ec8d27484eb9d8deef6658707f7e0913",
     "grade": false,
     "grade_id": "cell-281f76f5cdb89305",
     "locked": true,
     "schema_version": 3,
     "solution": false,
     "task": false
    }
   },
   "source": [
    "# Exercice 2 (12 points)"
   ]
  },
  {
   "cell_type": "markdown",
   "metadata": {
    "deletable": false,
    "editable": false,
    "nbgrader": {
     "cell_type": "markdown",
     "checksum": "29ca68180544fa87ef03747654dcad7b",
     "grade": false,
     "grade_id": "cell-e81b3a20dbe63971",
     "locked": true,
     "schema_version": 3,
     "solution": false,
     "task": false
    }
   },
   "source": [
    "<div class = \"alert alert-info\">\n",
    "    La fonction rendu_monnaie_centimes prend en paramètres deux nombres entiers positifs <code>s_due</code> et <code>s_versee</code> et elle permet de procéder au rendu de monnaie de la différence <code>s_versee – s_due</code> pour des achats effectués avec le système de pièces de la zone Euro. \n",
    "    \n",
    "    On utilise pour cela un algorithme qui commence par rendre le maximum de pièces de plus grandes valeurs et ainsi de suite. La fonction renvoie la liste des pièces qui composent le rendu.\n",
    "    \n",
    "Toutes les sommes sont exprimées en centimes d’euros. Les valeurs possibles pour les pièces sont donc <code>[1, 2, 5, 10, 20, 50, 100, 200]</code>.\n",
    "    \n",
    "Ainsi, l’instruction <code>rendu_monnaie_centimes(452, 500)</code> renverra la liste <code>[20, 20, 5, 2, 1]</code>.\n",
    "    En effet, la somme à rendre est de <b>48</b> centimes soit <b>20 + 20 + 5 + 2 + 1</b>.\n",
    "</div>"
   ]
  },
  {
   "cell_type": "markdown",
   "metadata": {
    "deletable": false,
    "editable": false,
    "nbgrader": {
     "cell_type": "markdown",
     "checksum": "31928af180dd3412c846d51d7e328e8b",
     "grade": false,
     "grade_id": "cell-19fd685291dcda49",
     "locked": true,
     "schema_version": 3,
     "solution": false,
     "task": false
    }
   },
   "source": [
    "Le code de la fonction est donné ci-dessous :\n",
    "\n",
    "```python\n",
    "def rendu_monnaie_centimes(s_due, s_versee):\n",
    "    pieces = [1, 2, 5, 10, 20, 50, 100, 200]\n",
    "    rendu = ...\n",
    "    a_rendre = ...\n",
    "    i = len(pieces) - 1\n",
    "    while a_rendre > ... :\n",
    "        if pieces[i] <= a_rendre :\n",
    "            rendu.append(...)\n",
    "            a_rendre = ...\n",
    "        else :\n",
    "            i = ...\n",
    "    return rendu\n",
    "```"
   ]
  },
  {
   "cell_type": "markdown",
   "metadata": {
    "deletable": false,
    "editable": false,
    "nbgrader": {
     "cell_type": "markdown",
     "checksum": "7bf3ecdef242132e2ac1217663166b5a",
     "grade": false,
     "grade_id": "cell-e926e20a5a7feee5",
     "locked": true,
     "schema_version": 3,
     "solution": false,
     "task": false
    }
   },
   "source": [
    "<div class = \"alert alert-info\">\n",
    "    Recopier et modifier le code ci-dessus pour qu'il passe les assertions\n",
    "<div>"
   ]
  },
  {
   "cell_type": "code",
   "execution_count": 6,
   "metadata": {
    "deletable": false,
    "nbgrader": {
     "cell_type": "code",
     "checksum": "e845c37e5e8c71e1ed37696d8159f9e7",
     "grade": false,
     "grade_id": "cell-1abf4ec7da0e54f7",
     "locked": false,
     "schema_version": 3,
     "solution": true,
     "task": false
    }
   },
   "outputs": [],
   "source": [
    "def rendu_monnaie_centimes(s_due, s_versee):\n",
    "    pieces = [1, 2, 5, 10, 20, 50, 100, 200]\n",
    "    rendu = []\n",
    "    a_rendre = s_versee - s_due\n",
    "    i = len(pieces) - 1\n",
    "    while a_rendre > 0:\n",
    "        if pieces[i] <= a_rendre :\n",
    "            rendu.append(pieces[i])\n",
    "            a_rendre = a_rendre - pieces[i]\n",
    "        else :\n",
    "            i = i-1\n",
    "    return rendu"
   ]
  },
  {
   "cell_type": "code",
   "execution_count": 7,
   "metadata": {
    "deletable": false,
    "editable": false,
    "nbgrader": {
     "cell_type": "code",
     "checksum": "1744da8298de69f72fba83c3c05b8649",
     "grade": true,
     "grade_id": "cell-7873874ee9593ed7",
     "locked": true,
     "points": 8,
     "schema_version": 3,
     "solution": false,
     "task": false
    }
   },
   "outputs": [],
   "source": [
    "assert rendu_monnaie_centimes(700,700) == []\n",
    "assert rendu_monnaie_centimes(112,500) == [200, 100, 50, 20, 10, 5, 2, 1]\n",
    "assert rendu_monnaie_centimes(112,120) == [5, 2, 1]\n",
    "assert rendu_monnaie_centimes(51,120) == [50, 10, 5, 2, 2]"
   ]
  },
  {
   "cell_type": "markdown",
   "metadata": {
    "deletable": false,
    "editable": false,
    "nbgrader": {
     "cell_type": "markdown",
     "checksum": "fe91b5e04a09241ea306f48a6c8298a8",
     "grade": false,
     "grade_id": "cell-825a93a99849be85",
     "locked": true,
     "schema_version": 3,
     "solution": false,
     "task": false
    }
   },
   "source": [
    "<div class = \"alert alert-info\">\n",
    " <b>Q1</b> : A quelle famille d'algorithme appartient l'algorithme ci-dessus appartient-il ?\n",
    "</div>"
   ]
  },
  {
   "cell_type": "markdown",
   "metadata": {
    "deletable": false,
    "nbgrader": {
     "cell_type": "markdown",
     "checksum": "8bf40717c2a12277f93391d62ae26616",
     "grade": true,
     "grade_id": "cell-d11b7821e5f43d82",
     "locked": false,
     "points": 1,
     "schema_version": 3,
     "solution": true,
     "task": false
    }
   },
   "source": [
    "YOUR ANSWER HERE Glouton???"
   ]
  },
  {
   "cell_type": "markdown",
   "metadata": {
    "deletable": false,
    "editable": false,
    "nbgrader": {
     "cell_type": "markdown",
     "checksum": "e83827cf45dea391e5f59e9e6708da36",
     "grade": false,
     "grade_id": "cell-a001ccb8e22e5137",
     "locked": true,
     "schema_version": 3,
     "solution": false,
     "task": false
    }
   },
   "source": [
    "<div class = \"alert alert-info\">\n",
    " <b>Q2</b> : La solution renvoyée par ce type d'algorithme n'est pas toujours optimale, pourtant le système de rendu de monnaie utilisé ici garanti dans ce cas une solution optimal. Comment s'appelle un tel système de rendu de monnaie ?\n",
    "</div>"
   ]
  },
  {
   "cell_type": "markdown",
   "metadata": {
    "deletable": false,
    "nbgrader": {
     "cell_type": "markdown",
     "checksum": "e8cade0fa0f543a3ae30b02601b07b8c",
     "grade": true,
     "grade_id": "cell-4c5c844c77be4f26",
     "locked": false,
     "points": 1,
     "schema_version": 3,
     "solution": true,
     "task": false
    }
   },
   "source": [
    "YOUR ANSWER HERE : canonique"
   ]
  },
  {
   "cell_type": "markdown",
   "metadata": {
    "deletable": false,
    "editable": false,
    "nbgrader": {
     "cell_type": "markdown",
     "checksum": "875e0b8b878d7535113850db2ef19ef8",
     "grade": false,
     "grade_id": "cell-1a92a7e4e725eddb",
     "locked": true,
     "schema_version": 3,
     "solution": false,
     "task": false
    }
   },
   "source": [
    "<div class=\"alert alert-warning\" align=\"center\">\n",
    "    <b>Equipe pédagoqique LFT-NSI</b>\n",
    "<br/>ressource éducative libre distribuée sous <a href=\"http://creativecommons.org/licenses/by-nc-sa/4.0/\"!>Licence Creative Commons Attribution</a>\n",
    "    <img src=\"https://i.creativecommons.org/l/by-nc-sa/4.0/88x31.png\" align=\"center\" width=\"70\"  margin=\"50px\"> \n",
    "</div>"
   ]
  }
 ],
 "metadata": {
  "kernelspec": {
   "display_name": "Python 3",
   "language": "python",
   "name": "python3"
  },
  "language_info": {
   "codemirror_mode": {
    "name": "ipython",
    "version": 3
   },
   "file_extension": ".py",
   "mimetype": "text/x-python",
   "name": "python",
   "nbconvert_exporter": "python",
   "pygments_lexer": "ipython3",
   "version": "3.6.9"
  },
  "latex_envs": {
   "LaTeX_envs_menu_present": true,
   "autoclose": false,
   "autocomplete": true,
   "bibliofile": "biblio.bib",
   "cite_by": "apalike",
   "current_citInitial": 1,
   "eqLabelWithNumbers": true,
   "eqNumInitial": 1,
   "hotkeys": {
    "equation": "Ctrl-E",
    "itemize": "Ctrl-I"
   },
   "labels_anchors": false,
   "latex_user_defs": false,
   "report_style_numbering": false,
   "user_envs_cfg": false
  }
 },
 "nbformat": 4,
 "nbformat_minor": 4
}
