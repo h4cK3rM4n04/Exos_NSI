{
 "cells": [
  {
   "cell_type": "markdown",
   "metadata": {},
   "source": [
    "<div class = \"alert alert-warning\" align=\"center\"> \n",
    "    <img src=\"https://www.egd.mg/wp-content/uploads/2020/01/cropped-logo-home-110px.png\" align=\"left\" width=\"290\"  margin=\"50px\"> \n",
    "    <center><h1>Lycée français de Tananarive</h1> \n",
    "        <h2> Jupyter Hub,  Spécialité NSI </h2></center>\n",
    "</div>"
   ]
  },
  {
   "cell_type": "markdown",
   "metadata": {
    "deletable": false,
    "editable": false,
    "nbgrader": {
     "cell_type": "markdown",
     "checksum": "cdc9b1d5f80b49d33a9de1fc0607d7aa",
     "grade": false,
     "grade_id": "cell-5724a81c0415035a",
     "locked": true,
     "schema_version": 3,
     "solution": false
    }
   },
   "source": [
    "# 1 Convertir un entier relatif\n",
    "## 1.1 La mèthode du complément à deux.\n",
    "### 1.1.1 Ecrire un nombre binaire sur X bits\n",
    "Pour coder un entier relatifs en binaire avec la méthode du complément à deux, il est obligatoire de définir le nombre de bits servant à coder ce nombre.\n",
    "\n",
    "On utilise habituellement 8, 16, 32 ou 64 bits.\n",
    "\n",
    "**Ecrire une fonction `nbr_bits(chaine,n)` qui prend en arguments, une chaine de caractères représentant un nombre binaire et un entier qui représente le nombre bits sur lequel il faut coder ce nombre.**\n",
    "> On ajoutera des zéros à gauche pour compléter `01011` doir renvoyer `00001011` pour une écriture sur **8 bits**.\n",
    "> Si la chaine contient plus de bits que n, la fonction doit tronquer le nombre en gardant les caractères les plus à droite  par exmple `1011011101` sur **8 bits** doit renvoyer `11011101`.\n"
   ]
  },
  {
   "cell_type": "code",
   "execution_count": 1,
   "metadata": {
    "deletable": false,
    "nbgrader": {
     "cell_type": "code",
     "checksum": "efdb9d86d7fdb13f5c2c576396d54d33",
     "grade": false,
     "grade_id": "cell-9d1e62804aefa090",
     "locked": false,
     "schema_version": 3,
     "solution": true
    }
   },
   "outputs": [],
   "source": [
    "def nbr_bits(chaine,n) :\n",
    "    # un nombre binaire sur X bits : by jaures Ratsim\n",
    "    le = len(chaine)\n",
    "    if chaine ==\"\":\n",
    "        return \"0\"*n\n",
    "    return \"0\"*(n-le) + chaine if le<n else chaine[(le-n):le] if le>n else chaine"
   ]
  },
  {
   "cell_type": "markdown",
   "metadata": {
    "deletable": false,
    "editable": false,
    "nbgrader": {
     "cell_type": "markdown",
     "checksum": "553906cfa13ea0f7d2434b3e77bb0c5b",
     "grade": false,
     "grade_id": "cell-2f766989af584179",
     "locked": true,
     "schema_version": 3,
     "solution": false
    }
   },
   "source": [
    "#### Jeu d'essai de la fonction `nbr_bits(chaine,n)`"
   ]
  },
  {
   "cell_type": "code",
   "execution_count": 2,
   "metadata": {
    "deletable": false,
    "editable": false,
    "nbgrader": {
     "cell_type": "code",
     "checksum": "bb53dc4407c73e3a5292dc1a0bdd0ab4",
     "grade": true,
     "grade_id": "cell-506ed3301e5f7232",
     "locked": true,
     "points": 2,
     "schema_version": 3,
     "solution": false
    }
   },
   "outputs": [],
   "source": [
    "assert nbr_bits('10101001110',16) == '0000010101001110'\n",
    "assert nbr_bits('1001011111111',8) == '11111111'\n",
    "assert nbr_bits('10101010',8) == \"10101010\"\n",
    "assert nbr_bits('', 32) == '00000000000000000000000000000000'"
   ]
  },
  {
   "cell_type": "markdown",
   "metadata": {
    "deletable": false,
    "editable": false,
    "nbgrader": {
     "cell_type": "markdown",
     "checksum": "ec681d4d65760dbb1cb4955540e2fd70",
     "grade": false,
     "grade_id": "cell-8dadb143bce115e7",
     "locked": true,
     "schema_version": 3,
     "solution": false
    }
   },
   "source": [
    "### 1.1.2 Inverser les bits.\n",
    "La seconde étape de la méthode du complément à deux est d'inverser tous les bits.\n",
    "\n",
    "**Ecrire une fonction `inverse_bit(chaine)` qui inverse chaque bit de la chaine de caractères. Un 1 devient un 0 et un 0 devient un 1**\n",
    ">par exemple `10101` devient `01010`"
   ]
  },
  {
   "cell_type": "code",
   "execution_count": 3,
   "metadata": {
    "deletable": false,
    "nbgrader": {
     "cell_type": "code",
     "checksum": "8f492847b6af3f37fd2728a21e84f36f",
     "grade": false,
     "grade_id": "cell-05d25ef043683314",
     "locked": false,
     "schema_version": 3,
     "solution": true
    }
   },
   "outputs": [],
   "source": [
    "def inverse_bit(chaine) : \n",
    "    # initializing mapping dictionary\n",
    "    map_dict = {'0':'1', '1':'0'}\n",
    "    res = ''.join(i if i not in map_dict else map_dict[i] for i in chaine)\n",
    "    return str(res)"
   ]
  },
  {
   "cell_type": "markdown",
   "metadata": {
    "deletable": false,
    "editable": false,
    "nbgrader": {
     "cell_type": "markdown",
     "checksum": "ca0d77c92e1db1e02aaf16a1dab830ef",
     "grade": false,
     "grade_id": "cell-fcd52c747eb671aa",
     "locked": true,
     "schema_version": 3,
     "solution": false
    }
   },
   "source": [
    "#### Jeu d'essais de la fonction `inverse_bit(chaine)`"
   ]
  },
  {
   "cell_type": "code",
   "execution_count": 14,
   "metadata": {
    "deletable": false,
    "editable": false,
    "nbgrader": {
     "cell_type": "code",
     "checksum": "d6fd99e776d2f56d6516038931f34907",
     "grade": true,
     "grade_id": "cell-1da2576f857bc9d0",
     "locked": true,
     "points": 1,
     "schema_version": 3,
     "solution": false
    }
   },
   "outputs": [],
   "source": [
    "assert inverse_bit('111') == '000'\n",
    "assert inverse_bit('0') == '1'\n",
    "assert inverse_bit('10111101110110') == '01000010001001'"
   ]
  },
  {
   "cell_type": "markdown",
   "metadata": {
    "deletable": false,
    "editable": false,
    "nbgrader": {
     "cell_type": "markdown",
     "checksum": "d73bceec624516d33778d45b0edfcd6b",
     "grade": false,
     "grade_id": "cell-4d12c1a2fce77ac4",
     "locked": true,
     "schema_version": 3,
     "solution": false
    }
   },
   "source": [
    "### 1.1.3 Additioner deux nombres binaires.\n",
    "\n",
    "**On considére deux nombres binaires, vous devez écrire une fonction `add_binaire(chaine1,chaine2)`, cette fonction prend en paramètre deux chaines de caractères représentant un nombre écrit en base 2, et retourne une chaine de caractères représentant la somme de ces deux nombres sous forme binaire.**\n",
    "\n",
    "> On commencera par mettre les deux chaines à la même taille, on pourra s'aider de la fonction `nbr_bits(n)`\n",
    "\n",
    "> Pour commencer il sera utile d'inverser les chaines ce qui peut se faire avec : `chaine = chaine[::-1]`\n",
    "\n",
    "> Enfin il suffira de parcourir tout les rangs des chaines en tenant éventuellement compte d'une retenue du rang précédent.\n"
   ]
  },
  {
   "cell_type": "code",
   "execution_count": 4,
   "metadata": {
    "deletable": false,
    "nbgrader": {
     "cell_type": "code",
     "checksum": "ee87fa2e7fc644bd141d48689eeb41d4",
     "grade": false,
     "grade_id": "cell-ec56d3763f9a8cb9",
     "locked": false,
     "schema_version": 3,
     "solution": true
    }
   },
   "outputs": [],
   "source": [
    "def add_binaire(a,b) :\n",
    "    if int(a)==0 and int(b)==0  :\n",
    "        return '0'*len(a) if (len(a)>len(b)) else '0'*len(b)\n",
    "    return bin(int(a,2) + int(b,2))[2:] if (isinstance(a,str) and isinstance(b,str)) else None"
   ]
  },
  {
   "cell_type": "markdown",
   "metadata": {
    "deletable": false,
    "editable": false,
    "nbgrader": {
     "cell_type": "markdown",
     "checksum": "ac5113f7408e9037b44b3ae2d3b2bbbc",
     "grade": false,
     "grade_id": "cell-22626b5fc73c7408",
     "locked": true,
     "schema_version": 3,
     "solution": false
    }
   },
   "source": [
    "#### Jeu d'essais de la fonction `add_binaire(chaine1,chaine2)`"
   ]
  },
  {
   "cell_type": "code",
   "execution_count": 5,
   "metadata": {
    "deletable": false,
    "editable": false,
    "nbgrader": {
     "cell_type": "code",
     "checksum": "95d08240dd63b96b1d357a785b2035f3",
     "grade": true,
     "grade_id": "cell-ee630b125146e40e",
     "locked": true,
     "points": 3,
     "schema_version": 3,
     "solution": false
    }
   },
   "outputs": [],
   "source": [
    "assert add_binaire('1','1111') == '10000'\n",
    "assert add_binaire('100','1') == '101'\n",
    "assert add_binaire('0','00') == '00'\n",
    "assert add_binaire('11','00') == '11'"
   ]
  },
  {
   "cell_type": "markdown",
   "metadata": {
    "deletable": false,
    "editable": false,
    "nbgrader": {
     "cell_type": "markdown",
     "checksum": "cff4cac3439cd1faae54587b9ef21199",
     "grade": false,
     "grade_id": "cell-edaaad9e5c0f2559",
     "locked": true,
     "schema_version": 3,
     "solution": false
    }
   },
   "source": [
    "## 1.2 Un programme de conversion pour entier relatif.\n",
    "### 1.2.1 Une conversion de décimal vers binaire.\n",
    "**Nous allons commencer par coder une fonction `dectobin(n)` qui transforme un entier positif ou nul exprimé en décimal, en une chaine de caractères qui code le nombre binaire correspondant.** "
   ]
  },
  {
   "cell_type": "code",
   "execution_count": 7,
   "metadata": {
    "deletable": false,
    "nbgrader": {
     "cell_type": "code",
     "checksum": "8429414ff5a2dfce49502b8dba5b17c9",
     "grade": false,
     "grade_id": "cell-4601cbfd9b19e220",
     "locked": false,
     "schema_version": 3,
     "solution": true
    }
   },
   "outputs": [],
   "source": [
    "def dectobin(n) :\n",
    "    # Une conversion de décimal vers binaire\n",
    "    return bin(n)[2:] if (isinstance(n,int)) else None"
   ]
  },
  {
   "cell_type": "markdown",
   "metadata": {
    "deletable": false,
    "editable": false,
    "nbgrader": {
     "cell_type": "markdown",
     "checksum": "dc035ebe94358b08b509d5ddd3c63175",
     "grade": false,
     "grade_id": "cell-be8e4cca7b505669",
     "locked": true,
     "schema_version": 3,
     "solution": false
    }
   },
   "source": [
    "#### jeu d'essai de la fonction `dectobin(n)`"
   ]
  },
  {
   "cell_type": "code",
   "execution_count": 8,
   "metadata": {
    "deletable": false,
    "editable": false,
    "nbgrader": {
     "cell_type": "code",
     "checksum": "8f2733dc0a7da9d8df34fd6c486971d7",
     "grade": true,
     "grade_id": "cell-fca93c2e418d7366",
     "locked": true,
     "points": 2,
     "schema_version": 3,
     "solution": false
    }
   },
   "outputs": [],
   "source": [
    "assert dectobin(0) == '0'\n",
    "assert dectobin(2) == '10'\n",
    "assert dectobin(255) == '11111111'\n",
    "assert dectobin(149) == '10010101'\n",
    "assert dectobin(113) == '1110001'"
   ]
  },
  {
   "cell_type": "markdown",
   "metadata": {
    "deletable": false,
    "editable": false,
    "nbgrader": {
     "cell_type": "markdown",
     "checksum": "6af50405ee6dcbca1b5a34e363941199",
     "grade": false,
     "grade_id": "cell-0ac807a2beb83f74",
     "locked": true,
     "schema_version": 3,
     "solution": false
    }
   },
   "source": [
    "### 1.2.2 conversion d'un entier relatif par la méthode du complément à 2\n",
    "**En vous aidant des fonctions définies précédemment, ecrire une fonction de conversion `convert_entier(nbre,n)` qui transforme un entier relatif `nbre` (positif ou négatif) en une chaine de caractères codée sur `n` bits représentant ce nombre en binaire par la méthode du complément à 2.**"
   ]
  },
  {
   "cell_type": "code",
   "execution_count": 1,
   "metadata": {
    "deletable": false,
    "nbgrader": {
     "cell_type": "code",
     "checksum": "9c50f5136988076c864fc92d2e82a671",
     "grade": false,
     "grade_id": "cell-e62a18315ebc5c06",
     "locked": false,
     "schema_version": 3,
     "solution": true
    }
   },
   "outputs": [],
   "source": [
    "def convert_entier(nbre,n) :\n",
    "    # YOUR CODE HERE\n",
    "    raise NotImplementedError()"
   ]
  },
  {
   "cell_type": "markdown",
   "metadata": {
    "deletable": false,
    "editable": false,
    "nbgrader": {
     "cell_type": "markdown",
     "checksum": "de022a62f71f2e270c9bb688874fa12d",
     "grade": false,
     "grade_id": "cell-e200cbd5aeb9bfdb",
     "locked": true,
     "schema_version": 3,
     "solution": false
    }
   },
   "source": [
    "#### Jeu d'essais de la fonction `convert_entier(nbre,n)`"
   ]
  },
  {
   "cell_type": "code",
   "execution_count": 2,
   "metadata": {
    "deletable": false,
    "editable": false,
    "nbgrader": {
     "cell_type": "code",
     "checksum": "6c9d55b472556f6dc5bc4551e738fe09",
     "grade": true,
     "grade_id": "cell-a267e076359495e3",
     "locked": true,
     "points": 2,
     "schema_version": 3,
     "solution": false
    },
    "scrolled": true
   },
   "outputs": [
    {
     "ename": "NotImplementedError",
     "evalue": "",
     "output_type": "error",
     "traceback": [
      "\u001b[0;31m\u001b[0m",
      "\u001b[0;31mNotImplementedError\u001b[0mTraceback (most recent call last)",
      "\u001b[0;32m<ipython-input-2-0b8eea52b9a5>\u001b[0m in \u001b[0;36m<module>\u001b[0;34m\u001b[0m\n\u001b[0;32m----> 1\u001b[0;31m \u001b[0;32massert\u001b[0m \u001b[0mconvert_entier\u001b[0m\u001b[0;34m(\u001b[0m\u001b[0;34m-\u001b[0m\u001b[0;36m12\u001b[0m\u001b[0;34m,\u001b[0m\u001b[0;36m8\u001b[0m\u001b[0;34m)\u001b[0m \u001b[0;34m==\u001b[0m  \u001b[0;34m'11110100'\u001b[0m\u001b[0;34m\u001b[0m\u001b[0;34m\u001b[0m\u001b[0m\n\u001b[0m\u001b[1;32m      2\u001b[0m \u001b[0;32massert\u001b[0m \u001b[0mconvert_entier\u001b[0m\u001b[0;34m(\u001b[0m\u001b[0;34m-\u001b[0m\u001b[0;36m12\u001b[0m\u001b[0;34m,\u001b[0m\u001b[0;36m16\u001b[0m\u001b[0;34m)\u001b[0m \u001b[0;34m==\u001b[0m  \u001b[0;34m'1111111111110100'\u001b[0m\u001b[0;34m\u001b[0m\u001b[0;34m\u001b[0m\u001b[0m\n\u001b[1;32m      3\u001b[0m \u001b[0;32massert\u001b[0m \u001b[0mconvert_entier\u001b[0m\u001b[0;34m(\u001b[0m\u001b[0;36m256\u001b[0m\u001b[0;34m,\u001b[0m\u001b[0;36m16\u001b[0m\u001b[0;34m)\u001b[0m \u001b[0;34m==\u001b[0m  \u001b[0;34m'0000000100000000'\u001b[0m\u001b[0;34m\u001b[0m\u001b[0;34m\u001b[0m\u001b[0m\n\u001b[1;32m      4\u001b[0m \u001b[0;32massert\u001b[0m \u001b[0mconvert_entier\u001b[0m\u001b[0;34m(\u001b[0m\u001b[0;34m-\u001b[0m\u001b[0;36m256\u001b[0m\u001b[0;34m,\u001b[0m\u001b[0;36m16\u001b[0m\u001b[0;34m)\u001b[0m \u001b[0;34m==\u001b[0m \u001b[0;34m'1111111100000000'\u001b[0m\u001b[0;34m\u001b[0m\u001b[0;34m\u001b[0m\u001b[0m\n",
      "\u001b[0;32m<ipython-input-1-d508ce756bed>\u001b[0m in \u001b[0;36mconvert_entier\u001b[0;34m(nbre, n)\u001b[0m\n\u001b[1;32m      1\u001b[0m \u001b[0;32mdef\u001b[0m \u001b[0mconvert_entier\u001b[0m\u001b[0;34m(\u001b[0m\u001b[0mnbre\u001b[0m\u001b[0;34m,\u001b[0m\u001b[0mn\u001b[0m\u001b[0;34m)\u001b[0m \u001b[0;34m:\u001b[0m\u001b[0;34m\u001b[0m\u001b[0;34m\u001b[0m\u001b[0m\n\u001b[1;32m      2\u001b[0m     \u001b[0;31m# YOUR CODE HERE\u001b[0m\u001b[0;34m\u001b[0m\u001b[0;34m\u001b[0m\u001b[0;34m\u001b[0m\u001b[0m\n\u001b[0;32m----> 3\u001b[0;31m     \u001b[0;32mraise\u001b[0m \u001b[0mNotImplementedError\u001b[0m\u001b[0;34m(\u001b[0m\u001b[0;34m)\u001b[0m\u001b[0;34m\u001b[0m\u001b[0;34m\u001b[0m\u001b[0m\n\u001b[0m",
      "\u001b[0;31mNotImplementedError\u001b[0m: "
     ]
    }
   ],
   "source": [
    "assert convert_entier(-12,8) ==  '11110100' \n",
    "assert convert_entier(-12,16) ==  '1111111111110100'\n",
    "assert convert_entier(256,16) ==  '0000000100000000'\n",
    "assert convert_entier(-256,16) == '1111111100000000'"
   ]
  },
  {
   "cell_type": "markdown",
   "metadata": {
    "deletable": false,
    "editable": false,
    "nbgrader": {
     "cell_type": "markdown",
     "checksum": "385227457a38ab39ac4332cee1dadc2a",
     "grade": false,
     "grade_id": "cell-1036932919c976e2",
     "locked": true,
     "schema_version": 3,
     "solution": false
    }
   },
   "source": [
    "**Félicitations** vous venez d'écrire une fonction qui permet de coder n'importe quel entier relatif... ah c'est vrai il existe une façon simple et presque toute prête mais pas facile à expliquer pour l'instant sans un cours complet sur le formattage des chaines de caractères etl'utilisation de la bibliothèque struct, cepandant vous pouvez essayez le code ci-dessous :"
   ]
  },
  {
   "cell_type": "code",
   "execution_count": null,
   "metadata": {
    "deletable": false,
    "editable": false,
    "nbgrader": {
     "cell_type": "code",
     "checksum": "608ea89e9d27a2d43ad8d955c14add7d",
     "grade": false,
     "grade_id": "cell-b57eec6e349f3f3d",
     "locked": true,
     "schema_version": 3,
     "solution": false
    }
   },
   "outputs": [],
   "source": [
    "from struct import *\n",
    "nombre = (''.join('{:08b}'.format(b) for b in pack('>b', -12)))\n",
    "print(\"-12 sur 8 bits : \",nombre)\n",
    "nombre = (''.join('{:08b}'.format(b) for b in pack('>h', -256)))\n",
    "print(\"-256 sur 16 bits : \", nombre)\n",
    "nombre = (''.join('{:08b}'.format(b) for b in pack('>i', 15746)))\n",
    "print(\" 15746 sur 32 bits : \", nombre)"
   ]
  }
 ],
 "metadata": {
  "kernelspec": {
   "display_name": "Python 3",
   "language": "python",
   "name": "python3"
  },
  "language_info": {
   "codemirror_mode": {
    "name": "ipython",
    "version": 3
   },
   "file_extension": ".py",
   "mimetype": "text/x-python",
   "name": "python",
   "nbconvert_exporter": "python",
   "pygments_lexer": "ipython3",
   "version": "3.6.9"
  },
  "latex_envs": {
   "LaTeX_envs_menu_present": true,
   "autoclose": false,
   "autocomplete": true,
   "bibliofile": "biblio.bib",
   "cite_by": "apalike",
   "current_citInitial": 1,
   "eqLabelWithNumbers": true,
   "eqNumInitial": 1,
   "hotkeys": {
    "equation": "Ctrl-E",
    "itemize": "Ctrl-I"
   },
   "labels_anchors": false,
   "latex_user_defs": false,
   "report_style_numbering": false,
   "user_envs_cfg": false
  }
 },
 "nbformat": 4,
 "nbformat_minor": 2
}
