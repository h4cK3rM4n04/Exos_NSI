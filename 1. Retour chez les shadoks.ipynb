{
 "cells": [
  {
   "cell_type": "markdown",
   "metadata": {},
   "source": [
    "<div class = \"alert alert-warning\" align=\"center\"> \n",
    "    <img src=\"https://www.egd.mg/wp-content/uploads/2020/01/cropped-logo-home-110px.png\" align=\"left\" width=\"290\"  margin=\"50px\"> \n",
    "    <center><h1>Lycée français de Tananarive</h1> \n",
    "        <h2> Jupyter Hub,  Spécialité NSI </h2></center>\n",
    "</div>"
   ]
  },
  {
   "cell_type": "markdown",
   "metadata": {
    "deletable": false,
    "editable": false,
    "nbgrader": {
     "cell_type": "markdown",
     "checksum": "5f0ac624e2324e1c85e5382d2467636e",
     "grade": false,
     "grade_id": "cell-99a709a3a43908bf",
     "locked": true,
     "schema_version": 3,
     "solution": false
    }
   },
   "source": [
    "# 1. Et les shadoks comptaient\n",
    "## 1.1 La numération shadok\n",
    "Rendez vous [sur la vidéo numération shadok](https://www.youtube.com/watch?v=lP9PaDs2xgQ) pour mieux comprendre comment comptent les shadoks.\n",
    ">**L'objectif de cette activité est d'aider les shadoks à cosntruire leur première calculatrice... une calculatrice qui fait des additions des soustractions et même des multiplications.**\n",
    "\n",
    "## 1.2 Un convertisseur shadok vers décimal\n",
    "### 1.2.1. La fonction de conversion\n",
    "Considérons la définition de la fonction ci-dessous, cette fonction prend une chaine de caractères en argument qui représente le nombre shadok, et renvoie l'entier correspondant."
   ]
  },
  {
   "cell_type": "code",
   "execution_count": 6,
   "metadata": {
    "deletable": false,
    "editable": false,
    "nbgrader": {
     "cell_type": "code",
     "checksum": "29b94d34648dc4055f0632e51c46d130",
     "grade": false,
     "grade_id": "cell-fc118bd9087e4be9",
     "locked": true,
     "schema_version": 3,
     "solution": false
    }
   },
   "outputs": [],
   "source": [
    "def shadoktodec(chaine):\n",
    "    shadok =[\"GA\" , \"BU\" , \"ZO\" , \"MEU\"] #shadok est une liste\n",
    "    chaine = chaine.split(\" \") # les différents caractères sont séparés par des espaces.     \n",
    "    resultat = 0\n",
    "    rang = 1\n",
    "    for i in reversed(chaine) : # reversed permet de prendre la liste à partir du dernier rang.\n",
    "        for j in range(4) :\n",
    "            if i == shadok[j] :\n",
    "                resultat = resultat + j*4**rang\n",
    "                rang += 1\n",
    "    return (resultat)"
   ]
  },
  {
   "cell_type": "code",
   "execution_count": 7,
   "metadata": {
    "deletable": false,
    "editable": false,
    "nbgrader": {
     "cell_type": "code",
     "checksum": "4badf39341d2ce3a83552e5240115563",
     "grade": false,
     "grade_id": "cell-eeefabbfe2044207",
     "locked": true,
     "schema_version": 3,
     "solution": false
    },
    "scrolled": false
   },
   "outputs": [
    {
     "data": {
      "text/plain": [
       "28"
      ]
     },
     "execution_count": 7,
     "metadata": {},
     "output_type": "execute_result"
    }
   ],
   "source": [
    "shadoktodec(\"BU MEU\")"
   ]
  },
  {
   "cell_type": "markdown",
   "metadata": {
    "deletable": false,
    "editable": false,
    "nbgrader": {
     "cell_type": "markdown",
     "checksum": "7a63f0d2821bf2fe34a371b8c71c65a4",
     "grade": false,
     "grade_id": "cell-28bb943dd03405b8",
     "locked": true,
     "schema_version": 3,
     "solution": false
    }
   },
   "source": [
    "Ce script ne passe le jeu de tests, il contient visiblement une erreur.. Les valeurs renvoyées ne correspondent pas ..\n",
    ">**Modifier ce script ci dessous, pour qu'il passe le jeu de test**"
   ]
  },
  {
   "cell_type": "code",
   "execution_count": 3,
   "metadata": {
    "deletable": false,
    "nbgrader": {
     "cell_type": "code",
     "checksum": "a990ec9673965b549acad1b0dd8254ad",
     "grade": false,
     "grade_id": "cell-899237a71093edab",
     "locked": false,
     "schema_version": 3,
     "solution": true
    }
   },
   "outputs": [],
   "source": [
    "def shadoktodec(chaine):\n",
    "    shadok =[\"GA\" , \"BU\" , \"ZO\" , \"MEU\"] #shadok est une liste\n",
    "    chaine = chaine.split(\" \") # les différents caractères sont séparés par des espaces.     \n",
    "    resultat = 0\n",
    "    rang = 0\n",
    "    for i in reversed(chaine) : # reversed permet de prendre la liste à partir du dernier rang.\n",
    "        for j in range(4) :\n",
    "            if i == shadok[j] :\n",
    "                resultat = resultat + j*4**rang\n",
    "                rang += 1\n",
    "    return (resultat)"
   ]
  },
  {
   "cell_type": "markdown",
   "metadata": {
    "deletable": false,
    "editable": false,
    "nbgrader": {
     "cell_type": "markdown",
     "checksum": "677fc0e70b5cd520eeb9dd2999273996",
     "grade": false,
     "grade_id": "cell-d7725901e1cc97f9",
     "locked": true,
     "schema_version": 3,
     "solution": false
    }
   },
   "source": [
    "### 1.2.2. Jeu d'essais "
   ]
  },
  {
   "cell_type": "code",
   "execution_count": 2,
   "metadata": {
    "deletable": false,
    "editable": false,
    "nbgrader": {
     "cell_type": "code",
     "checksum": "18baf6efabc8d864d13787454a46ed25",
     "grade": true,
     "grade_id": "cell-3225f27ae655d4c3",
     "locked": true,
     "points": 1,
     "schema_version": 3,
     "solution": false
    }
   },
   "outputs": [],
   "source": [
    "assert shadoktodec(\"BU BU\") == 5\n",
    "assert shadoktodec(\"GA\") == 0\n",
    "assert shadoktodec(\"MEU ZO BU\") == 57\n",
    "assert shadoktodec(\"BU BU\") == 5\n",
    "assert shadoktodec(\"ZO BU\") == 9"
   ]
  },
  {
   "cell_type": "markdown",
   "metadata": {
    "deletable": false,
    "editable": false,
    "nbgrader": {
     "cell_type": "markdown",
     "checksum": "766e953b4cebaa956270db765da39c01",
     "grade": false,
     "grade_id": "cell-636c1fea507ee971",
     "locked": true,
     "schema_version": 3,
     "solution": false
    }
   },
   "source": [
    "## 1.3 Un convertisseur décimal vers Shadok\n",
    "### 1.3.1  La fonction de conversion.\n",
    "Cette fonction prend un entier positif comme argument, et retourne une chaine de caractères donnant le nombre en shadok.\n",
    "Ce script a un défaut,il renvoie une chaine de caractères se terminant par un espace.(\"BU GA ZO \" par exemple)\n"
   ]
  },
  {
   "cell_type": "code",
   "execution_count": 8,
   "metadata": {
    "deletable": false,
    "editable": false,
    "nbgrader": {
     "cell_type": "code",
     "checksum": "e0af63fa1ac0e13bba4476fad1a8301e",
     "grade": false,
     "grade_id": "cell-4c1cb6c5ba809902",
     "locked": true,
     "schema_version": 3,
     "solution": false
    }
   },
   "outputs": [],
   "source": [
    "def dectoshadok(n) :\n",
    "    shadok =[\"GA\" , \"BU\" , \"ZO\" , \"MEU\"]\n",
    "    resultat = \"\"\n",
    "    while n > 4 :\n",
    "        resultat =  shadok[n % 4] + \" \" + resultat \n",
    "        n = n // 4\n",
    "    resultat =  shadok[n] + \" \" + resultat\n",
    "    return (resultat)"
   ]
  },
  {
   "cell_type": "markdown",
   "metadata": {
    "deletable": false,
    "editable": false,
    "nbgrader": {
     "cell_type": "markdown",
     "checksum": "0942c9611b9475ec08270053a9905557",
     "grade": false,
     "grade_id": "cell-4b90ae1f4b5eb489",
     "locked": true,
     "schema_version": 3,
     "solution": false
    }
   },
   "source": [
    "Ce script ne passe pas les tests et renvoie même parfois une erreur..."
   ]
  },
  {
   "cell_type": "code",
   "execution_count": 9,
   "metadata": {
    "deletable": false,
    "editable": false,
    "nbgrader": {
     "cell_type": "code",
     "checksum": "efde840893026413712d5db042226f2a",
     "grade": false,
     "grade_id": "cell-834a6e530aecf3f3",
     "locked": true,
     "schema_version": 3,
     "solution": false
    }
   },
   "outputs": [
    {
     "data": {
      "text/plain": [
       "'BU '"
      ]
     },
     "execution_count": 9,
     "metadata": {},
     "output_type": "execute_result"
    }
   ],
   "source": [
    "dectoshadok(1)"
   ]
  },
  {
   "cell_type": "code",
   "execution_count": 10,
   "metadata": {
    "deletable": false,
    "editable": false,
    "nbgrader": {
     "cell_type": "code",
     "checksum": "9dc51fd01dc58cc6f7eb7a009345bd14",
     "grade": false,
     "grade_id": "cell-69d780af1af149a0",
     "locked": true,
     "schema_version": 3,
     "solution": false
    }
   },
   "outputs": [
    {
     "data": {
      "text/plain": [
       "'ZO BU ZO BU ZO BU '"
      ]
     },
     "execution_count": 10,
     "metadata": {},
     "output_type": "execute_result"
    }
   ],
   "source": [
    "dectoshadok(2457)"
   ]
  },
  {
   "cell_type": "markdown",
   "metadata": {
    "deletable": false,
    "editable": false,
    "nbgrader": {
     "cell_type": "markdown",
     "checksum": "6c03926b9be73956847658fd7adb5f60",
     "grade": false,
     "grade_id": "cell-7ad1407a1931a138",
     "locked": true,
     "schema_version": 3,
     "solution": false
    }
   },
   "source": [
    "> **Modifier ce script de telle façon qu'il passe tous les test du jeu de tests ci-dessous.**"
   ]
  },
  {
   "cell_type": "code",
   "execution_count": 10,
   "metadata": {
    "deletable": false,
    "nbgrader": {
     "cell_type": "code",
     "checksum": "5b9da7cdb4693bdbe9a5a95e6c7a3f57",
     "grade": false,
     "grade_id": "cell-d563d55f3ebb58c4",
     "locked": false,
     "schema_version": 3,
     "solution": true
    }
   },
   "outputs": [],
   "source": [
    "def dectoshadok(n) :\n",
    "    shadok =[\"GA\" , \"BU\" , \"ZO\" , \"MEU\"]\n",
    "    resultat = \"\"\n",
    "    while n >= 4 :\n",
    "        resultat =  shadok[n % 4] + \" \" + resultat \n",
    "        n = n // 4\n",
    "    resultat =  shadok[n] + \" \" + resultat\n",
    "    return (resultat)"
   ]
  },
  {
   "cell_type": "markdown",
   "metadata": {
    "deletable": false,
    "editable": false,
    "nbgrader": {
     "cell_type": "markdown",
     "checksum": "1c6b8e7345f84a6e15db8fefb0b78f74",
     "grade": false,
     "grade_id": "cell-79d6152f2bd8ff53",
     "locked": true,
     "schema_version": 3,
     "solution": false
    }
   },
   "source": [
    "### 1.3.2 le jeu de tests.\n",
    "Votre fonction doit passer l'ensemble du jeu de tests ci-dessous :"
   ]
  },
  {
   "cell_type": "code",
   "execution_count": 13,
   "metadata": {
    "deletable": false,
    "editable": false,
    "nbgrader": {
     "cell_type": "code",
     "checksum": "51a351efdb9dab2f17616270caf42e0b",
     "grade": true,
     "grade_id": "cell-4bc2723da47902e9",
     "locked": true,
     "points": 1,
     "schema_version": 3,
     "solution": false
    }
   },
   "outputs": [],
   "source": [
    "assert dectoshadok(1) == \"BU \"\n",
    "assert dectoshadok(16) == \"BU GA GA \"\n",
    "assert dectoshadok(2457) == \"ZO BU ZO BU ZO BU \""
   ]
  },
  {
   "cell_type": "markdown",
   "metadata": {
    "deletable": false,
    "editable": false,
    "nbgrader": {
     "cell_type": "markdown",
     "checksum": "dece6764ef5f9e950df3a5015c6d42bf",
     "grade": false,
     "grade_id": "cell-8e5dcd2aa928633d",
     "locked": true,
     "schema_version": 3,
     "solution": false
    }
   },
   "source": [
    "# 2. Une calculatrice shadok.\n",
    "## 2.1 Consignes\n",
    "Vous devez écrire une fonction `addshadock(chaine1,chaine2)` qui prend en argument deux chaines de caractères représentant un nombre en shadok et qui renvoie une chaine de caractères qui représente la somme des deux nombre passés en argument.\n",
    "> Rq : il serait pertinent d'utiliser les fonctions précédemment écrites."
   ]
  },
  {
   "cell_type": "code",
   "execution_count": 21,
   "metadata": {
    "deletable": false,
    "nbgrader": {
     "cell_type": "code",
     "checksum": "e97e65edb006933eb4b81d5e4825c5db",
     "grade": false,
     "grade_id": "cell-cba075c2508fb5f6",
     "locked": false,
     "schema_version": 3,
     "solution": true
    }
   },
   "outputs": [],
   "source": [
    "def addshadok(chaine1,chaine2) :\n",
    "    dec1,dec2 = shadoktodec(chaine1),shadoktodec(chaine2)\n",
    "    somDec =  dec1 + dec2\n",
    "    return dectoshadok(somDec)\n",
    "def shadoktodec(chaine):\n",
    "    shadok =[\"GA\" , \"BU\" , \"ZO\" , \"MEU\"] #shadok est une liste\n",
    "    chaine = chaine.split(\" \") # les différents caractères sont séparés par des espaces.     \n",
    "    resultat = 0\n",
    "    rang = 0\n",
    "    for i in reversed(chaine) : # reversed permet de prendre la liste à partir du dernier rang.\n",
    "        for j in range(4) :\n",
    "            if i == shadok[j] :\n",
    "                resultat = resultat + j*4**rang\n",
    "                rang += 1\n",
    "    return (resultat)\n",
    "def dectoshadok(n) :\n",
    "    shadok =[\"GA\" , \"BU\" , \"ZO\" , \"MEU\"]\n",
    "    resultat = \"\"\n",
    "    while n >= 4 :\n",
    "        resultat =  shadok[n % 4] + \" \" + resultat \n",
    "        n = n // 4\n",
    "    resultat =  shadok[n] + \" \" + resultat\n",
    "    return (resultat)"
   ]
  },
  {
   "cell_type": "markdown",
   "metadata": {
    "deletable": false,
    "editable": false,
    "nbgrader": {
     "cell_type": "markdown",
     "checksum": "a8016d63eb88b1e1503f31f978e2b139",
     "grade": false,
     "grade_id": "cell-542805af94d539c9",
     "locked": true,
     "schema_version": 3,
     "solution": false
    }
   },
   "source": [
    "## 2.2 Jeu de tests\n",
    "Votre fonction doit passer le jeu de tests suivant :"
   ]
  },
  {
   "cell_type": "code",
   "execution_count": 24,
   "metadata": {
    "deletable": false,
    "editable": false,
    "nbgrader": {
     "cell_type": "code",
     "checksum": "d2bc881ee42a8dc668492bfd94f5225e",
     "grade": true,
     "grade_id": "cell-37e3b20b329d70f6",
     "locked": true,
     "points": 2,
     "schema_version": 3,
     "solution": false
    }
   },
   "outputs": [],
   "source": [
    "assert addshadok(\"GA\",\"GA\") == 'GA '\n",
    "assert addshadok(\"BU\",\"GA\") == 'BU '\n",
    "assert addshadok(\"BU\",\"MEU\") == 'BU GA '\n",
    "assert addshadok(\"BU BU\",\"MEU GA GA\") == 'MEU BU BU '"
   ]
  },
  {
   "cell_type": "code",
   "execution_count": null,
   "metadata": {},
   "outputs": [],
   "source": []
  }
 ],
 "metadata": {
  "kernelspec": {
   "display_name": "Python 3",
   "language": "python",
   "name": "python3"
  },
  "language_info": {
   "codemirror_mode": {
    "name": "ipython",
    "version": 3
   },
   "file_extension": ".py",
   "mimetype": "text/x-python",
   "name": "python",
   "nbconvert_exporter": "python",
   "pygments_lexer": "ipython3",
   "version": "3.6.9"
  },
  "latex_envs": {
   "LaTeX_envs_menu_present": true,
   "autoclose": false,
   "autocomplete": true,
   "bibliofile": "biblio.bib",
   "cite_by": "apalike",
   "current_citInitial": 1,
   "eqLabelWithNumbers": true,
   "eqNumInitial": 1,
   "hotkeys": {
    "equation": "Ctrl-E",
    "itemize": "Ctrl-I"
   },
   "labels_anchors": false,
   "latex_user_defs": false,
   "report_style_numbering": false,
   "user_envs_cfg": false
  }
 },
 "nbformat": 4,
 "nbformat_minor": 2
}
