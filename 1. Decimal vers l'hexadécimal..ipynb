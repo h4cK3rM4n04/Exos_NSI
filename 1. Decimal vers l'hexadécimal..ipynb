{
 "cells": [
  {
   "cell_type": "markdown",
   "metadata": {},
   "source": [
    "<div class = \"alert alert-warning\" align=\"center\"> \n",
    "    <img src=\"https://www.egd.mg/wp-content/uploads/2020/01/cropped-logo-home-110px.png\" align=\"left\" width=\"290\"  margin=\"50px\"> \n",
    "    <center><h1>Lycée français de Tananarive</h1> \n",
    "        <h2> Jupyter Hub,  Spécialité NSI </h2></center>\n",
    "</div>"
   ]
  },
  {
   "cell_type": "markdown",
   "metadata": {
    "deletable": false,
    "editable": false,
    "nbgrader": {
     "cell_type": "markdown",
     "checksum": "a9e6210093fb2f09bd612018f6e3e1b8",
     "grade": false,
     "grade_id": "cell-19e60c7a9803ecd1",
     "locked": true,
     "schema_version": 3,
     "solution": false
    }
   },
   "source": [
    "# 1. Un convertisseur décimal vers hexadécimal\n",
    "## 1.1 La fonction de conversion.\n",
    "On considére la fonction de conversion `dectohex(n)` codée ci-dessous, celle-ci prend en argument un nombre entier `n` et renvoie une chaine de caractère codant le nombre `n`.\n",
    "**Complétez le texte ci-dessous en indiquant le type de chaque variable utilisées dans la fonction**\n",
    "- n :\n",
    "- hexa : \n",
    "- liste :"
   ]
  },
  {
   "cell_type": "markdown",
   "metadata": {
    "deletable": false,
    "nbgrader": {
     "cell_type": "markdown",
     "checksum": "fcb6b34b795846ac845c56e75b5a30fc",
     "grade": true,
     "grade_id": "cell-afb97d8c38e0174c",
     "locked": false,
     "points": 1,
     "schema_version": 3,
     "solution": true
    }
   },
   "source": [
    "YOUR ANSWER HERE"
   ]
  },
  {
   "cell_type": "markdown",
   "metadata": {
    "deletable": false,
    "editable": false,
    "nbgrader": {
     "cell_type": "markdown",
     "checksum": "160a40720a0ebd0568a855e8c184ed85",
     "grade": false,
     "grade_id": "cell-fb5cec61df3cefcd",
     "locked": true,
     "schema_version": 3,
     "solution": false
    }
   },
   "source": [
    "**Ce Script fonctionne parfaitement quelque soit `n` sauf quand `n=0`, modifiez le pour qu'il renvoie la chaine de caractères `\"0\"` quand le paramètre passée est `0`**\n"
   ]
  },
  {
   "cell_type": "code",
   "execution_count": 10,
   "metadata": {
    "deletable": false,
    "nbgrader": {
     "cell_type": "code",
     "checksum": "ccce91854910719a27932838af5d83a7",
     "grade": false,
     "grade_id": "cell-e10d8dd99b55dd93",
     "locked": false,
     "schema_version": 3,
     "solution": true
    }
   },
   "outputs": [
    {
     "data": {
      "text/plain": [
       "'0'"
      ]
     },
     "execution_count": 10,
     "metadata": {},
     "output_type": "execute_result"
    }
   ],
   "source": [
    "def dectohex(n) :\n",
    "    hexa = \"\"\n",
    "    liste=\"0123456789ABCDEF\"\n",
    "    if (n==0):\n",
    "        return \"0\"\n",
    "    else:\n",
    "        while n != 0 :\n",
    "            hexa = liste[n%16] + hexa\n",
    "            n = n // 16\n",
    "        return(hexa)"
   ]
  },
  {
   "cell_type": "markdown",
   "metadata": {
    "deletable": false,
    "editable": false,
    "nbgrader": {
     "cell_type": "markdown",
     "checksum": "5022d7b5953f12a1def21bf0d4c55bfa",
     "grade": false,
     "grade_id": "cell-803f5af44f074a45",
     "locked": true,
     "schema_version": 3,
     "solution": false
    }
   },
   "source": [
    "**Jeu de tests :**"
   ]
  },
  {
   "cell_type": "code",
   "execution_count": 11,
   "metadata": {
    "deletable": false,
    "editable": false,
    "nbgrader": {
     "cell_type": "code",
     "checksum": "65e2c120627aa9de08ac0f9cdd813f50",
     "grade": true,
     "grade_id": "cell-4f9b8cfcc84237b9",
     "locked": true,
     "points": 2,
     "schema_version": 3,
     "solution": false
    }
   },
   "outputs": [],
   "source": [
    "assert dectohex(255) == 'FF'\n",
    "assert dectohex(16) == '10'\n",
    "assert dectohex(0) == '0'\n",
    "assert dectohex(256) == '100'"
   ]
  },
  {
   "cell_type": "markdown",
   "metadata": {},
   "source": [
    "# 2 Formatage d'un nombre héxadécimal en bloc d'octet.\n",
    "Un octet rerprésente 8 bits, par exemple `10100110`, ce nombre d'écrit `A6` en hexadécimal.\n",
    "\n",
    "**Ecrire une fonction `octet(n)` qui scinde la chaine de caractères passée en argument qui représente un nombre codé en hexadécimal en une chaines de caractéres représentant plusieurs octets séparés par des espaces**\n",
    "\n",
    "> par exemple `octet('A6B518') ` doit renvoyer : `'A6 B5 18'`."
   ]
  },
  {
   "cell_type": "code",
   "execution_count": 1,
   "metadata": {
    "deletable": false,
    "nbgrader": {
     "cell_type": "code",
     "checksum": "89336151d453d6625d942f8e5b469da1",
     "grade": false,
     "grade_id": "cell-9695d5647e1135a9",
     "locked": false,
     "schema_version": 3,
     "solution": true
    }
   },
   "outputs": [],
   "source": [
    "def octet(n):\n",
    "    f,L,sep = (len(n)),[], ' '\n",
    "    if (f%2 !=0):\n",
    "        n = \"0\"+n\n",
    "    [\"00\" if n ==\"0\" else [L.append(n[i-1:i+1]) for i in range(1,f+1,2)]]\n",
    "    return sep.join(L)"
   ]
  },
  {
   "cell_type": "code",
   "execution_count": 2,
   "metadata": {
    "deletable": false,
    "editable": false,
    "nbgrader": {
     "cell_type": "code",
     "checksum": "1fe9e99d3c4bd98428f1290a59237b7c",
     "grade": true,
     "grade_id": "cell-00f8519b3e90965e",
     "locked": true,
     "points": 2,
     "schema_version": 3,
     "solution": false
    }
   },
   "outputs": [],
   "source": [
    "assert octet(\"AD2B6547\") == 'AD 2B 65 47'\n",
    "assert octet(\"2B5C7\") == '02 B5 C7'\n",
    "assert octet(\"0\") == \"00\""
   ]
  },
  {
   "cell_type": "code",
   "execution_count": null,
   "metadata": {},
   "outputs": [],
   "source": [
    "def octet(n):\n",
    "    # Defining splitting point\n",
    "    sep,j = \" \",2\n",
    "    # Using list comprehension\n",
    "    L = [(n[i:i+j]) for i in range(0, len(n), j)]\n",
    "    return sep.join(L)"
   ]
  }
 ],
 "metadata": {
  "kernelspec": {
   "display_name": "Python 3 (ipykernel)",
   "language": "python",
   "name": "python3"
  },
  "language_info": {
   "codemirror_mode": {
    "name": "ipython",
    "version": 3
   },
   "file_extension": ".py",
   "mimetype": "text/x-python",
   "name": "python",
   "nbconvert_exporter": "python",
   "pygments_lexer": "ipython3",
   "version": "3.10.4"
  },
  "latex_envs": {
   "LaTeX_envs_menu_present": true,
   "autoclose": false,
   "autocomplete": true,
   "bibliofile": "biblio.bib",
   "cite_by": "apalike",
   "current_citInitial": 1,
   "eqLabelWithNumbers": true,
   "eqNumInitial": 1,
   "hotkeys": {
    "equation": "Ctrl-E",
    "itemize": "Ctrl-I"
   },
   "labels_anchors": false,
   "latex_user_defs": false,
   "report_style_numbering": false,
   "user_envs_cfg": false
  }
 },
 "nbformat": 4,
 "nbformat_minor": 2
}
